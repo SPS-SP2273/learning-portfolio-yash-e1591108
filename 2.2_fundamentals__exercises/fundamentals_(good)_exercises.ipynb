{
 "cells": [
  {
   "attachments": {},
   "cell_type": "markdown",
   "id": "123456",
   "metadata": {},
   "source": [
    "<div style=\"text-align:left;font-size:2em\"><span style=\"font-weight:bolder;font-size:1.25em\">SP2273 | Learning Portfolio</span><br><br><span style=\"font-weight:bold;color:darkred\">Fundamentals (Good) Exercises</span></div>"
   ]
  },
  {
   "cell_type": "markdown",
   "id": "dcdab5a0",
   "metadata": {},
   "source": [
    "#### **Exercise 1**"
   ]
  },
  {
   "cell_type": "code",
   "execution_count": 2,
   "id": "4bcfacb2",
   "metadata": {},
   "outputs": [
    {
     "name": "stdout",
     "output_type": "stream",
     "text": [
      "How you doin' Yash?\n"
     ]
    }
   ],
   "source": [
    "user=input('Enter your name: ')\n",
    "print(f'How you doin\\' {user}?')"
   ]
  },
  {
   "cell_type": "code",
   "execution_count": 3,
   "id": "cfce48d4",
   "metadata": {},
   "outputs": [
    {
     "name": "stdout",
     "output_type": "stream",
     "text": [
      "My name is Yash, and I am 18 years old.\n"
     ]
    }
   ],
   "source": [
    "user=input('Enter your name: ')\n",
    "age=int(input('Enter your age: '))\n",
    "print(f'My name is {user}, and I am {age} years old.')"
   ]
  },
  {
   "cell_type": "code",
   "execution_count": 6,
   "id": "e2027e23",
   "metadata": {},
   "outputs": [
    {
     "name": "stdout",
     "output_type": "stream",
     "text": [
      "The value of pi to two decimal places is 3.14.\n",
      "The value of pi to three decimal places is 3.142.\n",
      "The value of pi to four decimal places is 3.1416.\n"
     ]
    }
   ],
   "source": [
    "pi=3.141592653589793\n",
    "print(f'The value of pi to two decimal places is {pi:.2f}.')\n",
    "print(f'The value of pi to three decimal places is {pi:.3f}.')\n",
    "print(f'The value of pi to four decimal places is {pi:.4f}.')\n"
   ]
  },
  {
   "cell_type": "code",
   "execution_count": 19,
   "id": "b38f915d",
   "metadata": {},
   "outputs": [
    {
     "name": "stdout",
     "output_type": "stream",
     "text": [
      "Apple      $ 0.99\n",
      "Banana     $ 0.59\n",
      "Orange     $ 1.29\n"
     ]
    }
   ],
   "source": [
    "print(f'{'Apple':<10}','$'+f'{0.99:>5}')\n",
    "print(f'{'Banana':<10}','$'+f'{0.59:>5}')\n",
    "print(f'{'Orange':<10}','$'+f'{1.29:>5}')"
   ]
  },
  {
   "cell_type": "markdown",
   "id": "02f1d946",
   "metadata": {},
   "source": [
    "#### **Exercise 2**"
   ]
  },
  {
   "cell_type": "code",
   "execution_count": 23,
   "id": "1ca517b6",
   "metadata": {},
   "outputs": [
    {
     "name": "stdout",
     "output_type": "stream",
     "text": [
      "The student's grade is: A\n"
     ]
    }
   ],
   "source": [
    "grades={'user<=100 and user>=70':'A','user<70 and user>=50':'B','user<60 and user>=35':'C','user<35':'F'}\n",
    "\n",
    "try:\n",
    "    user=int(input('Enter the student\\'s score: '))\n",
    "    for i in grades:\n",
    "        if eval(i):\n",
    "            print(f'The student\\'s grade is: {grades[i]}')\n",
    "            break\n",
    "    else:\n",
    "        print('Please enter a valid integer score.')\n",
    "\n",
    "except (ValueError,TypeError):\n",
    "    print('Please enter a valid integer score.')"
   ]
  },
  {
   "cell_type": "markdown",
   "id": "92f0fe99",
   "metadata": {},
   "source": [
    "#### **Exercise 3**\n",
    "\n",
    "Debug:\n",
    "```\n",
    "def factorial(n):\n",
    "    if n > 0:\n",
    "        return \"Invalid input\"\n",
    "    elif n != 0:\n",
    "        return 1\n",
    "    else:\n",
    "        result = 1\n",
    "        for number in range(1, n+1):\n",
    "            result += number\n",
    "        return result\n",
    "\n",
    "\n",
    "print(factorial(5))   # Testing, expected output: 120\n",
    "print(factorial(-1))  # Testing, expected output: Invalid input\n",
    "```"
   ]
  },
  {
   "cell_type": "code",
   "execution_count": 24,
   "id": "346a739a",
   "metadata": {},
   "outputs": [
    {
     "name": "stdout",
     "output_type": "stream",
     "text": [
      "120\n",
      "Invalid input\n"
     ]
    }
   ],
   "source": [
    "def factorial(n):\n",
    "    if n < 0:\n",
    "        return \"Invalid input\"\n",
    "    elif n == 0:\n",
    "        return 1\n",
    "    else:\n",
    "        result = 1\n",
    "        for number in range(1, n+1):\n",
    "            result *= number\n",
    "        return result\n",
    "\n",
    "\n",
    "print(factorial(5))   # Testing, expected output: 120\n",
    "print(factorial(-1))  # Testing, expected output: Invalid input"
   ]
  }
 ],
 "metadata": {
  "kernelspec": {
   "display_name": "base",
   "language": "python",
   "name": "python3"
  },
  "language_info": {
   "codemirror_mode": {
    "name": "ipython",
    "version": 3
   },
   "file_extension": ".py",
   "mimetype": "text/x-python",
   "name": "python",
   "nbconvert_exporter": "python",
   "pygments_lexer": "ipython3",
   "version": "3.13.5"
  },
  "toc": {
   "base_numbering": 1,
   "nav_menu": {},
   "number_sections": true,
   "sideBar": true,
   "skip_h1_title": false,
   "title_cell": "Table of Contents",
   "title_sidebar": "Contents",
   "toc_cell": false,
   "toc_position": {},
   "toc_section_display": true,
   "toc_window_display": false
  }
 },
 "nbformat": 4,
 "nbformat_minor": 5
}
