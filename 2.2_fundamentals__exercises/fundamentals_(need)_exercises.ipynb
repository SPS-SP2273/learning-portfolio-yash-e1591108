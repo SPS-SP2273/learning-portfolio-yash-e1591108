{
 "cells": [
  {
   "cell_type": "markdown",
   "id": "71da600a",
   "metadata": {},
   "source": [
    "<div style=\"text-align:left;font-size:2em\"><span style=\"font-weight:bolder;font-size:1.25em\">SP2273 | Learning Portfolio</span><br><br><span style=\"font-weight:bold;color:darkred\">Fundamentals (Need) Exercises</span></div>"
   ]
  },
  {
   "cell_type": "markdown",
   "id": "8d625e17",
   "metadata": {},
   "source": [
    "#### **Exercise 1**\n",
    "The Python features I remember:\n",
    "- Python is a case-sensitive, interpreted language\n",
    "- Learnt about syntax of *print()* function\n",
    "- Comments in python start with a *#* or triple-quotes for multi-line comments.\n",
    "- Learnt about different kinds of operators: relational, arithmetic, and logical\n",
    "- Using if-else\n",
    "- Since Python has no delimiters to show where code blocks end, we must use indentations!\n",
    "- Strings must be enclosed within quotes\n",
    "- Different brackets have different function: ( ) for calling function (or defining tuples), [ ] for lists, { } for dictionaries\n",
    "- We can use packages and modules for built-in functions like math, random, and statistics."
   ]
  },
  {
   "cell_type": "markdown",
   "id": "de652ae2",
   "metadata": {},
   "source": [
    "#### **Exercise 2**\n",
    "Debug:\n",
    "```\n",
    "x, y = 3, 4\n",
    "        z = sqrt(x*2 + y**2)\n",
    "    Print(x, y, z)\n",
    "```"
   ]
  },
  {
   "cell_type": "code",
   "execution_count": null,
   "id": "0740c2bd",
   "metadata": {},
   "outputs": [
    {
     "name": "stdout",
     "output_type": "stream",
     "text": [
      "3 4 5\n"
     ]
    }
   ],
   "source": [
    "from math import sqrt\n",
    "x, y = 3, 4\n",
    "z = int(sqrt(x**2 + y**2))\n",
    "print(x, y, z)"
   ]
  },
  {
   "cell_type": "markdown",
   "id": "2b237b2b",
   "metadata": {},
   "source": [
    "#### **Exercise 3**\n",
    "\n",
    "| #  | Term         | Description |\n",
    "|----|--------------|-------------|\n",
    "| 1  | Function     | A method to carry out specific tasks in Python. May or may not require inputs (arguments)             |\n",
    "| 2  | Arguments    | The input or value passed to a function when it is called (equivalent to parameter in a function header/definition)             |\n",
    "| 3  | Comments     | Statements in Python beginning with '#' (inline) or enclosed within ''' triple quotes (multi-line)         |\n",
    "| 4  | Indentations | Since python lacks explicit delimiters (like ;), indentations are required to maintain structure, hierarchy and flow of control in a program.             |\n",
    "| 5  | Packages     |              |\n",
    "| 6  | .            | Used mainly to call an attribute to a function/method, or to invoke function from a module           |\n",
    "| 7  | :            | Used to create slices within indices (for iterables), as a 'description delimiter' within f-strings             |\n",
    "| 8  | []           | Used for indexing interables             |\n",
    "| 9  | [[],[]]      | Used for indexing nested iterables (nested lists/tuples/arrays)            |\n",
    "| 10 | {}           | Used to define dictionaries             |"
   ]
  },
  {
   "cell_type": "markdown",
   "id": "a586fc33",
   "metadata": {},
   "source": [
    "#### **Exercise 4**"
   ]
  },
  {
   "cell_type": "code",
   "execution_count": null,
   "id": "a5ce8ccc",
   "metadata": {},
   "outputs": [
    {
     "name": "stdout",
     "output_type": "stream",
     "text": [
      "2.5 2 1\n"
     ]
    }
   ],
   "source": [
    "5/2 #float division: gives a float result\n",
    "5//2 #integer division: gives integer part of division\n",
    "5%2 #mod: gives the remainder of division\n",
    "\n",
    "#see results\n",
    "print(5/2, 5//2, 5%2)"
   ]
  }
 ],
 "metadata": {
  "kernelspec": {
   "display_name": "base",
   "language": "python",
   "name": "python3"
  },
  "language_info": {
   "codemirror_mode": {
    "name": "ipython",
    "version": 3
   },
   "file_extension": ".py",
   "mimetype": "text/x-python",
   "name": "python",
   "nbconvert_exporter": "python",
   "pygments_lexer": "ipython3",
   "version": "3.13.5"
  },
  "toc": {
   "base_numbering": 1,
   "nav_menu": {},
   "number_sections": true,
   "sideBar": true,
   "skip_h1_title": false,
   "title_cell": "Table of Contents",
   "title_sidebar": "Contents",
   "toc_cell": false,
   "toc_position": {},
   "toc_section_display": true,
   "toc_window_display": false
  }
 },
 "nbformat": 4,
 "nbformat_minor": 5
}
