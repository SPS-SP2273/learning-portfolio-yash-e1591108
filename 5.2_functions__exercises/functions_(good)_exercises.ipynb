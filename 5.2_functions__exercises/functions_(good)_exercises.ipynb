{
 "cells": [
  {
   "attachments": {},
   "cell_type": "markdown",
   "id": "123456",
   "metadata": {},
   "source": [
    "<div style=\"text-align:left;font-size:2em\"><span style=\"font-weight:bolder;font-size:1.25em\">SP2273 | Learning Portfolio</span><br><br><span style=\"font-weight:bold;color:darkred\">Functions (Good) Exercises</span></div>"
   ]
  },
  {
   "cell_type": "markdown",
   "id": "fb608369",
   "metadata": {},
   "source": [
    "#### **Exercise 1 (Celsius to other)**"
   ]
  },
  {
   "cell_type": "code",
   "execution_count": 36,
   "id": "8acee3d0",
   "metadata": {},
   "outputs": [
    {
     "name": "stdout",
     "output_type": "stream",
     "text": [
      "56 °C in Kelvin is 329.15 K\n"
     ]
    }
   ],
   "source": [
    "def convert_celsius(temp_celsius, target_scale='Fahrenheit'):\n",
    "    try:\n",
    "        if target_scale.lower()=='kelvin':\n",
    "            return f'{temp_celsius} °C in Kelvin is {(temp_celsius+273.15):.2f} K'\n",
    "        elif target_scale.lower()=='fahrenheit':\n",
    "            return f'{temp_celsius} °C in Fahrenheit is {(1.8*temp_celsius+32):.2f} F'\n",
    "        else:\n",
    "            return 'Please enter a valid scale!'\n",
    "    except:\n",
    "        return 'Please enter valid arguments!'\n",
    "    \n",
    "print(convert_celsius(56,'kelvin'))\n"
   ]
  },
  {
   "cell_type": "markdown",
   "id": "630e24aa",
   "metadata": {},
   "source": [
    "#### **Exercise 2 (Fahrenheit to Other)**"
   ]
  },
  {
   "cell_type": "code",
   "execution_count": null,
   "id": "79e2ee2e",
   "metadata": {},
   "outputs": [
    {
     "name": "stdout",
     "output_type": "stream",
     "text": [
      "56 F in Kelvin is 286.48 K\n"
     ]
    }
   ],
   "source": [
    "def convert_fahr(temp_fahr, target_scale='Celsius'):\n",
    "    print('adfdsf')\n",
    "    try:\n",
    "        celsius=(temp_fahr-32)*5/9\n",
    "        if target_scale.lower()=='kelvin':\n",
    "            print (f'{temp_fahr} F in Kelvin is {(celsius+273.15):.2f} K')\n",
    "        elif target_scale.lower()=='celsius':\n",
    "            return f'{temp_fahr} F in Celsius is {celsius:.2f} C'\n",
    "        else:\n",
    "            return 'Please enter a valid scale!'\n",
    "    except:\n",
    "        return 'Please enter valid arguments!'\n",
    "    \n",
    "print(convert_fahr(56,'kelvin'))"
   ]
  },
  {
   "cell_type": "markdown",
   "id": "2421f5da",
   "metadata": {},
   "source": [
    "##### **Kelvin to other converter as well**"
   ]
  },
  {
   "cell_type": "code",
   "execution_count": 47,
   "id": "28b22746",
   "metadata": {},
   "outputs": [],
   "source": [
    "def convert_kelvin(temp_kel, target_scale='Celsius'):\n",
    "    try:\n",
    "        celsius=temp_kel-273.15\n",
    "        if target_scale.lower()=='fahrenheit':\n",
    "            return f'{temp_kel} K in Fahrenheit is {(1.8*celsius+32):.2f} K'\n",
    "        elif target_scale.lower()=='celsius':\n",
    "            return f'{temp_kel} K in Celsius is {celsius:.2f} C'\n",
    "        else:\n",
    "            return 'Please enter a valid scale!'\n",
    "    except:\n",
    "        return 'Please enter valid arguments!'"
   ]
  },
  {
   "cell_type": "markdown",
   "id": "4805a7f4",
   "metadata": {},
   "source": [
    "#### **Exercise 3 (Crazy temp conversions!)**"
   ]
  },
  {
   "cell_type": "code",
   "execution_count": 56,
   "id": "ebfd55e0",
   "metadata": {},
   "outputs": [
    {
     "name": "stdout",
     "output_type": "stream",
     "text": [
      "260 F in Celsius is 126.67 C\n",
      "670 K in Celsius is 396.85 C\n",
      "373.15 K in Fahrenheit is 212.00 K\n",
      "100 °C in Fahrenheit is 212.00 F\n"
     ]
    }
   ],
   "source": [
    "global temp, source, target\n",
    "def convert_temp(temp,source,target):\n",
    "    convert={'celsius':'convert_celsius(temp, target)','kelvin':'convert_kelvin(temp, target)','fahrenheit':'convert_fahr(temp,target)'}\n",
    "    try:\n",
    "        if source.lower() in convert:\n",
    "            return eval(convert[source.lower()])\n",
    "    except:\n",
    "        return 'Please enter valid arguments!'''\n",
    "    \n",
    "print(convert_temp(260,'fahrenheit','celsius'))\n",
    "print(convert_temp(670,'kelvin','celsius'))\n",
    "print(convert_temp(373.15,'kelvin','fahrenheit'))\n",
    "print(convert_temp(100,'celsius','fahrenheit'))\n",
    "\n"
   ]
  }
 ],
 "metadata": {
  "kernelspec": {
   "display_name": "base",
   "language": "python",
   "name": "python3"
  },
  "language_info": {
   "codemirror_mode": {
    "name": "ipython",
    "version": 3
   },
   "file_extension": ".py",
   "mimetype": "text/x-python",
   "name": "python",
   "nbconvert_exporter": "python",
   "pygments_lexer": "ipython3",
   "version": "3.13.5"
  },
  "toc": {
   "base_numbering": 1,
   "nav_menu": {},
   "number_sections": true,
   "sideBar": true,
   "skip_h1_title": false,
   "title_cell": "Table of Contents",
   "title_sidebar": "Contents",
   "toc_cell": false,
   "toc_position": {},
   "toc_section_display": true,
   "toc_window_display": false
  }
 },
 "nbformat": 4,
 "nbformat_minor": 5
}
