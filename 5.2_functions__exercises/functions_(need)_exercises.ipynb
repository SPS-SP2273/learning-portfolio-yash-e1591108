{
 "cells": [
  {
   "attachments": {},
   "cell_type": "markdown",
   "id": "123456",
   "metadata": {},
   "source": [
    "<div style=\"text-align:left;font-size:2em\"><span style=\"font-weight:bolder;font-size:1.25em\">SP2273 | Learning Portfolio</span><br><br><span style=\"font-weight:bold;color:darkred\">Functions (Need) Exercises</span></div>"
   ]
  },
  {
   "cell_type": "markdown",
   "id": "f9392c30",
   "metadata": {},
   "source": [
    "#### **Exercise 1 (if without else???)**"
   ]
  },
  {
   "cell_type": "code",
   "execution_count": 35,
   "id": "4c114fad",
   "metadata": {},
   "outputs": [
    {
     "name": "stdout",
     "output_type": "stream",
     "text": [
      "Hello Batman! So, nice to meet you!\n",
      "Hello ManBatMan!\n",
      "Hello ManBatBatMan!\n"
     ]
    }
   ],
   "source": [
    "def greeting(name):\n",
    "    if name == 'Batman':\n",
    "        return 'Hello Batman! So, nice to meet you!'\n",
    "    return f'Hello {name}!'\n",
    "\n",
    "print(greeting('Batman'))\n",
    "print(greeting('ManBatMan'))\n",
    "print(greeting('ManBatBatMan'))"
   ]
  },
  {
   "cell_type": "markdown",
   "id": "20947aa0",
   "metadata": {},
   "source": [
    "**Explanation:** 'if' doesn't necessarily need an 'else' in python. We can have multiple if statements as well. The flow of control may go something like this:\n",
    "- Having multiple ifs: the program checks all ifs one after the other and executes every if block\n",
    "- if-else: else just tells the program what to do in case none of the ifs are true\n",
    "- if-elif-else: elif allows us to provide statements which are checked only if the if block is false \n",
    "\n",
    "So, our program above will return the entire sentence only if the name=='Batman'. The return statement bring the program out of the function automatically. In all cases, it will always return 'Hello _{name}_'. It's just that for the Batman case, because the if-block is true and executed, the return pulls the control out of the function."
   ]
  },
  {
   "cell_type": "markdown",
   "id": "0f3aedd4",
   "metadata": {},
   "source": [
    "#### **Exercise 2 (BMI)**"
   ]
  },
  {
   "cell_type": "code",
   "execution_count": 38,
   "id": "23a1c15a",
   "metadata": {},
   "outputs": [
    {
     "name": "stdout",
     "output_type": "stream",
     "text": [
      "Your BMI is 22.22\n",
      "Your BMI is in the Normal range\n"
     ]
    }
   ],
   "source": [
    "def calc_bmi(weight, height):\n",
    "    db={'bmi<=18.5':'Underweight','bmi>18.5 and bmi<=24.9':'Normal','bmi>24.9 and bmi<=29.9':'Overweight',\n",
    "        'bmi>29.9':'Obese'}\n",
    "    try:\n",
    "        bmi=weight/(height**2)\n",
    "        print(f'Your BMI is {bmi:.2f}')\n",
    "        for i in db:\n",
    "            if eval(i):\n",
    "                return db[i]\n",
    "    except:\n",
    "        print('Enter a valid input!')\n",
    "\n",
    "\n",
    "print(f'Your BMI is in the {calc_bmi(50,1.5)} range')"
   ]
  },
  {
   "cell_type": "markdown",
   "id": "cafdcb02",
   "metadata": {},
   "source": [
    "#### **Exercise 3 (Factorials)**"
   ]
  },
  {
   "cell_type": "code",
   "execution_count": 1,
   "id": "4e9f6a76",
   "metadata": {},
   "outputs": [
    {
     "name": "stdout",
     "output_type": "stream",
     "text": [
      "720\n",
      "Please pass a valid argument!\n",
      "Sorry, I'm not old enough to calculate negative factorials right now:/\n",
      "1\n"
     ]
    }
   ],
   "source": [
    "def fact(n):\n",
    "    try:\n",
    "        if n<0:\n",
    "            return 'Sorry, I\\'m not old enough to calculate negative factorials right now:/'\n",
    "        f=1\n",
    "        for i in range(1,n+1):\n",
    "            f*=i\n",
    "        return f\n",
    "    except:\n",
    "        return 'Please pass a valid argument!'\n",
    "\n",
    "print(fact(6))\n",
    "print(fact('lol'))\n",
    "print(fact(-1))\n",
    "print(fact(0))\n"
   ]
  }
 ],
 "metadata": {
  "kernelspec": {
   "display_name": "base",
   "language": "python",
   "name": "python3"
  },
  "language_info": {
   "codemirror_mode": {
    "name": "ipython",
    "version": 3
   },
   "file_extension": ".py",
   "mimetype": "text/x-python",
   "name": "python",
   "nbconvert_exporter": "python",
   "pygments_lexer": "ipython3",
   "version": "3.13.5"
  },
  "toc": {
   "base_numbering": 1,
   "nav_menu": {},
   "number_sections": true,
   "sideBar": true,
   "skip_h1_title": false,
   "title_cell": "Table of Contents",
   "title_sidebar": "Contents",
   "toc_cell": false,
   "toc_position": {},
   "toc_section_display": true,
   "toc_window_display": false
  }
 },
 "nbformat": 4,
 "nbformat_minor": 5
}
