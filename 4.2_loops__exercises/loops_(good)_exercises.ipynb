{
 "cells": [
  {
   "attachments": {},
   "cell_type": "markdown",
   "id": "123456",
   "metadata": {},
   "source": [
    "<div style=\"text-align:left;font-size:2em\"><span style=\"font-weight:bolder;font-size:1.25em\">SP2273 | Learning Portfolio</span><br><br><span style=\"font-weight:bold;color:darkred\">Loops (Good) Exercises</span></div>"
   ]
  },
  {
   "cell_type": "markdown",
   "id": "299aa3e6",
   "metadata": {},
   "source": [
    "#### **Exercise 1 (Odd list)**"
   ]
  },
  {
   "cell_type": "code",
   "execution_count": 1,
   "id": "7d81ab11",
   "metadata": {},
   "outputs": [
    {
     "name": "stdout",
     "output_type": "stream",
     "text": [
      "[1, 9, 25, 49, 81]\n"
     ]
    }
   ],
   "source": [
    "l=list()\n",
    "for i in range(10):\n",
    "    if i%2!=0:\n",
    "        l.append(i**2)\n",
    "    else:\n",
    "        continue\n",
    "print(l)"
   ]
  },
  {
   "cell_type": "markdown",
   "id": "2dfcafde",
   "metadata": {},
   "source": [
    "#### **Exercise 2 (Odd list using List Comprehension)**"
   ]
  },
  {
   "cell_type": "code",
   "execution_count": 5,
   "id": "42d94cac",
   "metadata": {},
   "outputs": [
    {
     "name": "stdout",
     "output_type": "stream",
     "text": [
      "725 ns ± 12.4 ns per loop (mean ± std. dev. of 7 runs, 1,000,000 loops each)\n",
      "[1, 9, 25, 49, 81]\n"
     ]
    }
   ],
   "source": [
    "%timeit l=[i**2 for i in range(10) if i%2!=0]\n",
    "print(l)"
   ]
  },
  {
   "cell_type": "markdown",
   "id": "062b786b",
   "metadata": {},
   "source": [
    "#### **Exercise 3 (Timing the methods)**"
   ]
  },
  {
   "cell_type": "code",
   "execution_count": 7,
   "id": "02c8b4bb",
   "metadata": {},
   "outputs": [
    {
     "name": "stdout",
     "output_type": "stream",
     "text": [
      "959 ns ± 190 ns per loop (mean ± std. dev. of 7 runs, 1,000,000 loops each)\n"
     ]
    }
   ],
   "source": [
    "%%timeit\n",
    "l=list()\n",
    "for i in range(10):\n",
    "    if i%2!=0:\n",
    "        l.append(i**2)"
   ]
  },
  {
   "cell_type": "markdown",
   "id": "9a91f3e2",
   "metadata": {},
   "source": [
    "*(list comprehension is faster!)*"
   ]
  },
  {
   "cell_type": "markdown",
   "id": "a7d1d92c",
   "metadata": {},
   "source": [
    "#### **Exercise 4 (Radioactivity)**"
   ]
  },
  {
   "cell_type": "code",
   "execution_count": 10,
   "id": "7d71333f",
   "metadata": {},
   "outputs": [
    {
     "name": "stdout",
     "output_type": "stream",
     "text": [
      "Half life of the substance is 14 years\n"
     ]
    }
   ],
   "source": [
    "quant=100\n",
    "yr=0\n",
    "while True:\n",
    "    if quant>50:\n",
    "        quant-=0.05*quant\n",
    "        yr+=1\n",
    "    elif quant<=50:\n",
    "        print(f'Half life of the substance is {yr} years')\n",
    "        break\n",
    "        "
   ]
  },
  {
   "cell_type": "markdown",
   "id": "b74394aa",
   "metadata": {},
   "source": [
    "#### **Exercise 5 (CO2 Emissions)**"
   ]
  },
  {
   "cell_type": "code",
   "execution_count": 7,
   "id": "38e26581",
   "metadata": {},
   "outputs": [
    {
     "name": "stdout",
     "output_type": "stream",
     "text": [
      "(2016, 404.24) had 3.41 ppm more CO2 emission compared to (2015, 400.83)\n"
     ]
    }
   ],
   "source": [
    "co2 = [\n",
    "    (2000, 369.55), (2001, 371.14), (2002, 373.28), \n",
    "    (2003, 375.80), (2004, 377.52), (2005, 379.80), \n",
    "    (2006, 381.90), (2007, 383.79), (2008, 385.60), \n",
    "    (2009, 387.43), (2010, 389.90), (2011, 391.65), \n",
    "    (2012, 393.85), (2013, 396.52), (2014, 398.65),\n",
    "    (2015, 400.83), (2016, 404.24), (2017, 406.55), \n",
    "    (2018, 408.52), (2019, 411.44), (2020, 414.24)\n",
    "]\n",
    "\n",
    "for i in range(len(co2)):\n",
    "    if co2[i][1]>=co2[i-1][1]+3 and (co2[i][0]-co2[i-1][0]==1) :\n",
    "        print(f'{co2[i]} had {co2[i][1]-co2[i-1][1]:.3} ppm more CO2 emission compared to {co2[i-1]}')"
   ]
  }
 ],
 "metadata": {
  "kernelspec": {
   "display_name": "base",
   "language": "python",
   "name": "python3"
  },
  "language_info": {
   "codemirror_mode": {
    "name": "ipython",
    "version": 3
   },
   "file_extension": ".py",
   "mimetype": "text/x-python",
   "name": "python",
   "nbconvert_exporter": "python",
   "pygments_lexer": "ipython3",
   "version": "3.13.5"
  },
  "toc": {
   "base_numbering": 1,
   "nav_menu": {},
   "number_sections": true,
   "sideBar": true,
   "skip_h1_title": false,
   "title_cell": "Table of Contents",
   "title_sidebar": "Contents",
   "toc_cell": false,
   "toc_position": {},
   "toc_section_display": true,
   "toc_window_display": false
  }
 },
 "nbformat": 4,
 "nbformat_minor": 5
}
