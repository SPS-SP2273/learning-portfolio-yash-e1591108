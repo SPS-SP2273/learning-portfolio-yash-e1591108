{
 "cells": [
  {
   "attachments": {},
   "cell_type": "markdown",
   "id": "123456",
   "metadata": {},
   "source": [
    "<div style=\"text-align:left;font-size:2em\"><span style=\"font-weight:bolder;font-size:1.25em\">SP2273 | Learning Portfolio</span><br><br><span style=\"font-weight:bold;color:darkred\">Loops (Need) Exercises</span></div>"
   ]
  },
  {
   "cell_type": "markdown",
   "id": "20993802",
   "metadata": {},
   "source": [
    "#### **Exercise 1**"
   ]
  },
  {
   "cell_type": "code",
   "execution_count": 2,
   "id": "b5448bcc",
   "metadata": {},
   "outputs": [
    {
     "name": "stdout",
     "output_type": "stream",
     "text": [
      "C: 0 F: 32\n",
      "C: 5 F: 41\n",
      "C: 10 F: 50\n",
      "C: 15 F: 59\n",
      "C: 20 F: 68\n",
      "C: 25 F: 77\n",
      "C: 30 F: 86\n",
      "C: 35 F: 95\n",
      "C: 40 F: 104\n",
      "C: 45 F: 113\n",
      "C: 50 F: 122\n"
     ]
    }
   ],
   "source": [
    "temperatures_celsius = [\n",
    "    0, 5, 10, 15, 20, 25,\n",
    "    30, 35, 40, 45, 50\n",
    "]\n",
    "\n",
    "for i in temperatures_celsius:\n",
    "    fahr=int(1.8*i+32)\n",
    "    print(f'C: {i}',f'F: {fahr}')"
   ]
  },
  {
   "cell_type": "markdown",
   "id": "df829886",
   "metadata": {},
   "source": [
    "#### **Exercise 2 (Multiplication table)**"
   ]
  },
  {
   "cell_type": "code",
   "execution_count": 14,
   "id": "e5a87f7c",
   "metadata": {},
   "outputs": [
    {
     "name": "stdout",
     "output_type": "stream",
     "text": [
      "1  :  1   2   3   4   5  \n",
      "2  :  2   4   6   8   10 \n",
      "3  :  3   6   9   12  15 \n",
      "4  :  4   8   12  16  20 \n",
      "5  :  5   10  15  20  25 \n"
     ]
    }
   ],
   "source": [
    "for i in range(1,6):\n",
    "    print(f'{i:<2}',f'{':':<2}',f'{i*1:<3}',f'{i*2:<3}',f'{i*3:<3}',f'{i*4:<3}',f'{i*5:<3}')"
   ]
  },
  {
   "cell_type": "markdown",
   "id": "e6332d14",
   "metadata": {},
   "source": [
    "#### **Exercise 3 (Simulating coin flips)**"
   ]
  },
  {
   "cell_type": "code",
   "execution_count": 1,
   "id": "bbd45020",
   "metadata": {},
   "outputs": [
    {
     "name": "stdout",
     "output_type": "stream",
     "text": [
      "Experiment 0:  Number of Heads = 4\n",
      "Experiment 1:  Number of Heads = 6\n",
      "Experiment 2:  Number of Heads = 5\n",
      "Experiment 3:  Number of Heads = 5\n",
      "Experiment 4:  Number of Heads = 7\n",
      "Experiment 5:  Number of Heads = 5\n",
      "Experiment 6:  Number of Heads = 5\n",
      "Experiment 7:  Number of Heads = 4\n",
      "Experiment 8:  Number of Heads = 6\n",
      "Experiment 9:  Number of Heads = 6\n"
     ]
    }
   ],
   "source": [
    "import numpy as np\n",
    "\n",
    "for rounds in range(10):\n",
    "    exp=np.random.rand(10)\n",
    "    heads=exp[exp>0.5]\n",
    "    print(f'Experiment {rounds}: ',f'Number of Heads = {len(heads)}')"
   ]
  }
 ],
 "metadata": {
  "kernelspec": {
   "display_name": "base",
   "language": "python",
   "name": "python3"
  },
  "language_info": {
   "codemirror_mode": {
    "name": "ipython",
    "version": 3
   },
   "file_extension": ".py",
   "mimetype": "text/x-python",
   "name": "python",
   "nbconvert_exporter": "python",
   "pygments_lexer": "ipython3",
   "version": "3.13.5"
  },
  "toc": {
   "base_numbering": 1,
   "nav_menu": {},
   "number_sections": true,
   "sideBar": true,
   "skip_h1_title": false,
   "title_cell": "Table of Contents",
   "title_sidebar": "Contents",
   "toc_cell": false,
   "toc_position": {},
   "toc_section_display": true,
   "toc_window_display": false
  }
 },
 "nbformat": 4,
 "nbformat_minor": 5
}
