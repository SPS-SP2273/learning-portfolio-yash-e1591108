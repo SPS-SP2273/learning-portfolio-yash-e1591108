{
 "cells": [
  {
   "cell_type": "markdown",
   "id": "169444ee",
   "metadata": {},
   "source": [
    "<div style=\"text-align:left;font-size:2em\"><span style=\"font-weight:bolder;font-size:1.25em\">SP2273 | Learning Portfolio</span><br><br><span style=\"font-weight:bold;color:darkred\">Using Jupyter (Need), Exercises</span></div>"
   ]
  },
  {
   "cell_type": "markdown",
   "id": "9d1a0f33",
   "metadata": {},
   "source": [
    "#### **Exercise 1 (Quadratic Equations)**"
   ]
  },
  {
   "cell_type": "markdown",
   "id": "c522df5b",
   "metadata": {},
   "source": [
    "#### Introduction"
   ]
  },
  {
   "cell_type": "markdown",
   "id": "001f1184",
   "metadata": {},
   "source": [
    "![](https://upload.wikimedia.org/wikipedia/commons/thumb/f/f8/Polynomialdeg2.svg/300px-Polynomialdeg2.svg.png)\n",
    "\n",
    "*(Image from the [Wikipedia page on Quadratic Equations](https://en.wikipedia.org/wiki/Quadratic_equation))*\n",
    "\n",
    "The general form of a quadratic equation is:\n",
    "$$ax^2+bx+c$$"
   ]
  },
  {
   "cell_type": "markdown",
   "id": "c2b89f04",
   "metadata": {},
   "source": [
    "#### Solutions"
   ]
  },
  {
   "cell_type": "markdown",
   "id": "a137e4f6",
   "metadata": {},
   "source": [
    "Provided $a\\neq 0$, we can use an elementary algebraic method called [completing the square](https://en.wikipedia.org/wiki/Completing_the_square) to show that a quadratic equation has the following solution: $$x=\\frac{-b\\pm\\sqrt{b^2-4ac}}{2a}$$"
   ]
  },
  {
   "cell_type": "markdown",
   "id": "193837a5",
   "metadata": {},
   "source": [
    "#### Discriminant"
   ]
  },
  {
   "cell_type": "markdown",
   "id": "203d64b2",
   "metadata": {},
   "source": [
    "The quantity $\\Delta = b^2-4ac$ is called the **discriminant** of the equation and decides the nature of its solutions. The table below shows the various possibilities:\n",
    "\n",
    "\n",
    "|      Discriminant      | Roots                                |\n",
    "|:----------------------:|--------------------------------------|\n",
    "| $\\Delta = b^2-4ac = 0$ | A single solution of $-b/2a$         |\n",
    "| $\\Delta = b^2-4ac > 0$ | Two distinct solutions               |\n",
    "| $\\Delta = b^2-4ac < 0$ | No real solutions; both are complex. |"
   ]
  },
  {
   "cell_type": "markdown",
   "id": "4cd9e845",
   "metadata": {},
   "source": [
    "#### **Exercise 2**\n",
    "\n",
    "1. Github **Repository**: It is a basic unit of organisation within github storin your code, files, documentation, tracking changes etc.\n",
    "2. Git keeps track of <u>changes</u> in the files in our repository.\n",
    "3. A **commit** is used to store changes with a message, showcasing a specific point in you're project's history.\n",
    "4. A **push** is used to upload committed changes to a remote repository (github server). \n",
    "5. A **pull** is used to fetch data from the remote repository and update youre local repository."
   ]
  },
  {
   "cell_type": "markdown",
   "id": "e85dfec3",
   "metadata": {},
   "source": [
    "#### **Exercise 3 (Formulae)**\n",
    "\n",
    "$$\\mu=\\frac{1}{n}\\sum_{i=1}^{n}x_i$$\n",
    "$$\\sigma=\\sqrt{\\frac{1}{n}\\sum_{i=1}^{n}(x_i-\\mu)^2}$$\n",
    "$$r=\\frac{\\sum_{i=1}^{n}(x_i-\\mu_X)(y_i-\\mu_Y)}{\\sqrt{\\sum_{i=1}^{n}(x_i-\\mu_X)^2\\sum_{i=1}^{n}(y_i-\\mu_Y)^2}}$$\n"
   ]
  }
 ],
 "metadata": {
  "kernelspec": {
   "display_name": "Python 3",
   "language": "python",
   "name": "python3"
  },
  "language_info": {
   "codemirror_mode": {
    "name": "ipython",
    "version": 3
   },
   "file_extension": ".py",
   "mimetype": "text/x-python",
   "name": "python",
   "nbconvert_exporter": "python",
   "pygments_lexer": "ipython3",
   "version": "3.10.6 (main, Nov 14 2022, 16:10:14) [GCC 11.3.0]"
  },
  "toc": {
   "base_numbering": 1,
   "nav_menu": {},
   "number_sections": true,
   "sideBar": true,
   "skip_h1_title": false,
   "title_cell": "Table of Contents",
   "title_sidebar": "Contents",
   "toc_cell": false,
   "toc_position": {},
   "toc_section_display": true,
   "toc_window_display": false
  },
  "vscode": {
   "interpreter": {
    "hash": "31f2aee4e71d21fbe5cf8b01ff0e069b9275f58929596ceb00d14d90e3e16cd6"
   }
  }
 },
 "nbformat": 4,
 "nbformat_minor": 5
}
