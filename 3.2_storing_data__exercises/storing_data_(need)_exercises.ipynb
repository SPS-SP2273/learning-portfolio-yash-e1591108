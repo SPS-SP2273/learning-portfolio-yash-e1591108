{
 "cells": [
  {
   "attachments": {},
   "cell_type": "markdown",
   "id": "123456",
   "metadata": {},
   "source": [
    "<div style=\"text-align:left;font-size:2em\"><span style=\"font-weight:bolder;font-size:1.25em\">SP2273 | Learning Portfolio</span><br><br><span style=\"font-weight:bold;color:darkred\">Storing Data (Need) Exercises</span></div>"
   ]
  },
  {
   "cell_type": "markdown",
   "id": "1f8cf6f3",
   "metadata": {},
   "source": [
    "#### **Exercise 1**\n",
    "\n",
    "1. - Lists and arrays are both mutable data types in python, and can be sliced. \n",
    "    - Both of them can be indexed, iterated upon, and their elements accessed in a similar manner.\n",
    "\n",
    "2. - Lists are in-built in python, while implmenting arrays require the numpy module.\n",
    "    - Arrays are always homogeneous, while lists can be heterogeneous.\n",
    "\n",
    "3. Dictionaries are mappings as a bunch of key-value pairs enclosed within curly brackets { }. "
   ]
  },
  {
   "cell_type": "markdown",
   "id": "7b7ca4ec",
   "metadata": {},
   "source": [
    "#### **Exercise 2**"
   ]
  },
  {
   "cell_type": "code",
   "execution_count": 2,
   "id": "9e811974",
   "metadata": {},
   "outputs": [
    {
     "name": "stdout",
     "output_type": "stream",
     "text": [
      "a1\n",
      "c3\n",
      "e5\n",
      "g7\n",
      "i9\n"
     ]
    }
   ],
   "source": [
    "py_list = [\"a1\", \"b2\", \"c3\", \"d4\", \"e5\", \"f6\", \"g7\", \"h8\", \"i9\", \"j10\"]\n",
    "for i in py_list:\n",
    "    if int(i[1:])%2!=0:\n",
    "        print(i)\n"
   ]
  },
  {
   "cell_type": "markdown",
   "id": "bcad4522",
   "metadata": {},
   "source": [
    "#### **Exercise 3**"
   ]
  },
  {
   "cell_type": "code",
   "execution_count": 2,
   "id": "12677019",
   "metadata": {},
   "outputs": [
    {
     "name": "stdout",
     "output_type": "stream",
     "text": [
      "Boron\n",
      "Nitrogen\n",
      "Boron\n"
     ]
    }
   ],
   "source": [
    "elements = ['Hydrogen',\n",
    "            'Helium', 'Lithium',\n",
    "            'Beryllium', 'Boron', 'Carbon',\n",
    "            'Nitrogen', 'Oxygen',\n",
    "            'Fluorine',\n",
    "            'Neon']\n",
    "print(elements[4]) #index 4 => 5th element\n",
    "print(elements[-4]) #index -4 => 4th last element\n",
    "print(elements[elements.index('Boron')-len(elements)]) #index works from the front starting as 0 1 2 ... I subtracted the length to try and get a negative index without having to manually count!"
   ]
  },
  {
   "cell_type": "markdown",
   "id": "7f6758a0",
   "metadata": {},
   "source": [
    "#### **Exercise 4**"
   ]
  },
  {
   "cell_type": "code",
   "execution_count": null,
   "id": "87379c20",
   "metadata": {},
   "outputs": [
    {
     "name": "stdout",
     "output_type": "stream",
     "text": [
      "9\n"
     ]
    }
   ],
   "source": [
    "import numpy as np\n",
    "\n",
    "numbers_array=np.array([45, 60, 1, 30, 96, 1, 96, 57, 16, 1,\n",
    "        99, 62, 86, 43, 42, 60, 59, 1, 1, 35,\n",
    "        83, 47, 34, 28, 68, 23, 22, 92, 1, 79,\n",
    "        1, 29, 94, 72, 46, 47, 1, 74, 32, 20,\n",
    "        8, 37, 35, 1, 89, 29, 86, 19, 43, 61])\n",
    "\n",
    "ones_mask = numbers_array == 1\n",
    "print(len(numbers_array[ones_mask]))"
   ]
  },
  {
   "cell_type": "markdown",
   "id": "2b3b80b7",
   "metadata": {},
   "source": [
    "#### **Exercise 5**"
   ]
  },
  {
   "cell_type": "code",
   "execution_count": 19,
   "id": "671ce8a9",
   "metadata": {},
   "outputs": [
    {
     "name": "stdout",
     "output_type": "stream",
     "text": [
      "Mean of x1 is 38.5\n",
      "Mean of x2 is 302.5\n",
      "Standard deviation of x1 is 32.41990129534635\n",
      "Standard deviation of x2 is 326.0893282522444\n",
      "\n",
      "PCC of the data is 0.9871796626270701\n",
      "\n",
      "PCC using NumPy is 0.9871796626270701\n"
     ]
    }
   ],
   "source": [
    "import numpy as np\n",
    "x1 = np.array([1, 4, 9, 16, 25, 36, 49, 64, 81, 100])\n",
    "x2 = np.array([1, 8, 27, 64, 125, 216, 343, 512, 729, 1000])\n",
    "print(f'Mean of x1 is {np.mean(x1)}')\n",
    "print(f'Mean of x2 is {np.mean(x2)}')\n",
    "print(f'Standard deviation of x1 is {np.std(x1)}')\n",
    "print(f'Standard deviation of x2 is {np.std(x2)}')\n",
    "\n",
    "avg1=np.mean(x1)\n",
    "avg2=np.mean(x2)\n",
    "\n",
    "#finding pcc\n",
    "numr=denr1=denr2=0\n",
    "x1_=x1-avg1\n",
    "x2_=x2-avg2\n",
    "numr=sum(x1_*x2_)\n",
    "denr1=sum(x1_**2)\n",
    "denr2=sum(x2_**2)\n",
    "pcc=numr/(np.sqrt(denr1*denr2))\n",
    "print(f'\\nPCC of the data is {pcc}')\n",
    "print(f'\\nPCC using NumPy is {np.corrcoef(x1,x2)[0][1]}')"
   ]
  }
 ],
 "metadata": {
  "kernelspec": {
   "display_name": "base",
   "language": "python",
   "name": "python3"
  },
  "language_info": {
   "codemirror_mode": {
    "name": "ipython",
    "version": 3
   },
   "file_extension": ".py",
   "mimetype": "text/x-python",
   "name": "python",
   "nbconvert_exporter": "python",
   "pygments_lexer": "ipython3",
   "version": "3.13.5"
  },
  "toc": {
   "base_numbering": 1,
   "nav_menu": {},
   "number_sections": true,
   "sideBar": true,
   "skip_h1_title": false,
   "title_cell": "Table of Contents",
   "title_sidebar": "Contents",
   "toc_cell": false,
   "toc_position": {},
   "toc_section_display": true,
   "toc_window_display": false
  }
 },
 "nbformat": 4,
 "nbformat_minor": 5
}
