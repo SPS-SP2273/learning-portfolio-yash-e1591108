{
 "cells": [
  {
   "attachments": {},
   "cell_type": "markdown",
   "id": "123456",
   "metadata": {},
   "source": [
    "<div style=\"text-align:left;font-size:2em\"><span style=\"font-weight:bolder;font-size:1.25em\">SP2273 | Learning Portfolio</span><br><br><span style=\"font-weight:bold;color:darkred\">Storing Data (Good) Exercises</span></div>"
   ]
  },
  {
   "cell_type": "markdown",
   "id": "63989c83",
   "metadata": {},
   "source": [
    "#### **Exercise 1**\n",
    "\n",
    "| Term       | Brief description                                                                                       |\n",
    "|------------|---------------------------------------------------------------------------------------------------------|\n",
    "| Subsetting | means to 'select' (from a list, array, dictionary in Python)                                            |\n",
    "| Indexing   | means to retrieve the element at a specific position or 'index'                                         |\n",
    "| Slicing    | means to retrieve a range of elements between specific position                                         |\n",
    "| Masking    | allows us to convert numpy arrays into an array of true/false, allowing us to see only the true subset. |"
   ]
  },
  {
   "cell_type": "markdown",
   "id": "eefe38c0",
   "metadata": {},
   "source": [
    "#### **Exercise 2**"
   ]
  },
  {
   "cell_type": "code",
   "execution_count": 7,
   "id": "2ca485ab",
   "metadata": {},
   "outputs": [
    {
     "name": "stdout",
     "output_type": "stream",
     "text": [
      "[ 1  3  2  4  5  7  6  8 10  9]\n",
      "[1 1 0 0 1 1 0 0 0 1]\n",
      "[ True  True False False  True  True False False False  True]\n",
      "A\n",
      "C\n",
      "E\n",
      "G\n",
      "I\n"
     ]
    }
   ],
   "source": [
    "import numpy as np\n",
    "\n",
    "np_array_2d = np.array([[1, \"A\"], [3, \"C\"], [2, \"B\"], [4, \"D\"],\n",
    "                        [5, \"E\"], [7, \"G\"], [6, \"F\"], [8, \"H\"],\n",
    "                        [10, \"J\"], [9, \"I\"]])\n",
    "#1\n",
    "subset=(np_array_2d[0::,0]).astype(int)\n",
    "print(subset)\n",
    "\n",
    "#2\n",
    "subset=subset%2\n",
    "print(subset)\n",
    "\n",
    "#3\n",
    "mask=subset==1\n",
    "print(mask)\n",
    "\n",
    "#4\n",
    "for i in range(len(mask)):\n",
    "    if mask[i]:\n",
    "        print(np_array_2d[i][1])"
   ]
  },
  {
   "cell_type": "markdown",
   "id": "7ee1e5ef",
   "metadata": {},
   "source": [
    "#### **Exercise 3**"
   ]
  },
  {
   "cell_type": "code",
   "execution_count": null,
   "id": "6516292b",
   "metadata": {},
   "outputs": [
    {
     "name": "stdout",
     "output_type": "stream",
     "text": [
      "[[ 1  0  1 -1 -1]\n",
      " [ 1 -1  1 -1 -1]\n",
      " [ 1 -1 -1  1 -1]\n",
      " [-1  1  1 -1 -1]\n",
      " [ 1 -1  1 -1  1]]\n"
     ]
    }
   ],
   "source": [
    "arr = np.array([[66, 50, 57, -1, -1],\n",
    " [92, -1, 88, -1, -1],\n",
    " [75, -1, -1, 76, -1],\n",
    " [-1, 51, 87, -1, -1],\n",
    " [71, -1, 67, -1, 69]])\n",
    "\n",
    "arr[arr < 50] = -1\n",
    "arr[arr == 50] = 0\n",
    "arr[arr > 50] = 1\n",
    "\n",
    "print(arr)\n"
   ]
  }
 ],
 "metadata": {
  "kernelspec": {
   "display_name": "base",
   "language": "python",
   "name": "python3"
  },
  "language_info": {
   "codemirror_mode": {
    "name": "ipython",
    "version": 3
   },
   "file_extension": ".py",
   "mimetype": "text/x-python",
   "name": "python",
   "nbconvert_exporter": "python",
   "pygments_lexer": "ipython3",
   "version": "3.13.5"
  },
  "toc": {
   "base_numbering": 1,
   "nav_menu": {},
   "number_sections": true,
   "sideBar": true,
   "skip_h1_title": false,
   "title_cell": "Table of Contents",
   "title_sidebar": "Contents",
   "toc_cell": false,
   "toc_position": {},
   "toc_section_display": true,
   "toc_window_display": false
  }
 },
 "nbformat": 4,
 "nbformat_minor": 5
}
